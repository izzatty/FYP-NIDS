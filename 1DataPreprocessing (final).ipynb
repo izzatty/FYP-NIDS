{
 "cells": [
  {
   "cell_type": "code",
   "execution_count": null,
   "id": "a82a4589-84ee-4ef9-a054-4254ba6a9bd8",
   "metadata": {},
   "outputs": [
    {
     "name": "stdout",
     "output_type": "stream",
     "text": [
      "Processing: C:\\Users\\izzat\\Downloads\\CICIDS2018\\02-14-2018.csv\n",
      "Processing: C:\\Users\\izzat\\Downloads\\CICIDS2018\\02-15-2018.csv\n",
      "Processing: C:\\Users\\izzat\\Downloads\\CICIDS2018\\02-16-2018.csv\n",
      "Processing: C:\\Users\\izzat\\Downloads\\CICIDS2018\\02-20-2018.csv\n",
      "Processing: C:\\Users\\izzat\\Downloads\\CICIDS2018\\02-21-2018.csv\n",
      "Processing: C:\\Users\\izzat\\Downloads\\CICIDS2018\\02-22-2018.csv\n",
      "Processing: C:\\Users\\izzat\\Downloads\\CICIDS2018\\02-23-2018.csv\n",
      "Processing: C:\\Users\\izzat\\Downloads\\CICIDS2018\\02-28-2018.csv\n",
      "Processing: C:\\Users\\izzat\\Downloads\\CICIDS2018\\03-01-2018.csv\n",
      "Processing: C:\\Users\\izzat\\Downloads\\CICIDS2018\\03-02-2018.csv\n",
      " Done combining files.\n"
     ]
    }
   ],
   "source": [
    "import pandas as pd\n",
    "import glob\n",
    "import os\n",
    "\n",
    "output_file = \"CICIDS2018_combined.csv\"\n",
    "csv_files = glob.glob(r\"C:\\Users\\izzat\\Downloads\\CICIDS2018\\*.csv\")\n",
    "\n",
    "if os.path.exists(output_file):\n",
    "    os.remove(output_file)\n",
    "\n",
    "# Read and write in chunks to handle memory limits\n",
    "for i, file in enumerate(csv_files):\n",
    "    print(f\"Processing: {file}\")\n",
    "    chunk_iter = pd.read_csv(file, chunksize=100000, low_memory=False)  # Read 100k rows at a time\n",
    "\n",
    "    for j, chunk in enumerate(chunk_iter):\n",
    "        if i == 0 and j == 0:\n",
    "            chunk.to_csv(output_file, index=False, mode='w') \n",
    "        else:\n",
    "            chunk.to_csv(output_file, index=False, mode='a', header=False) \n",
    "\n",
    "print(\" Done combining files.\")"
   ]
  },
  {
   "cell_type": "code",
   "execution_count": null,
   "id": "3789b8cb-cc4c-4b09-b4d6-0eb6d65ee1d2",
   "metadata": {},
   "outputs": [
    {
     "name": "stdout",
     "output_type": "stream",
     "text": [
      "Loaded chunk 1 with shape: (100000, 80)\n",
      "Loaded chunk 2 with shape: (100000, 80)\n",
      "Loaded chunk 3 with shape: (100000, 80)\n",
      "Combined partial DataFrame:\n",
      "(300000, 80)\n"
     ]
    }
   ],
   "source": [
    "import pandas as pd\n",
    "\n",
    "output_file = \"CICIDS2018_combined.csv\"\n",
    "chunk_size = 100000\n",
    "\n",
    "all_rows = [] \n",
    "max_chunks = 3 \n",
    "\n",
    "reader = pd.read_csv(output_file, chunksize=chunk_size, low_memory=False, on_bad_lines='skip')\n",
    "\n",
    "for i, chunk in enumerate(reader):\n",
    "    print(f\"Loaded chunk {i+1} with shape: {chunk.shape}\")\n",
    "    all_rows.append(chunk)\n",
    "    if i + 1 == max_chunks:\n",
    "        break\n",
    "\n",
    "df = pd.concat(all_rows, ignore_index=True)\n",
    "print(\"Combined partial DataFrame:\")\n",
    "print(df.shape)"
   ]
  },
  {
   "cell_type": "code",
   "execution_count": 3,
   "id": "0da1792f-3c10-40a7-9297-020f5963a9e1",
   "metadata": {},
   "outputs": [
    {
     "name": "stdout",
     "output_type": "stream",
     "text": [
      " Saved cleaned CSV as 'CICIDS2018_cleaned.csv'\n"
     ]
    }
   ],
   "source": [
    "df.to_csv(\"CICIDS2018_cleaned.csv\", index=False)\n",
    "print(\" Saved cleaned CSV as 'CICIDS2018_cleaned.csv'\")"
   ]
  },
  {
   "cell_type": "code",
   "execution_count": 4,
   "id": "e784b37a-4b50-4205-8f2c-e5c1ae161469",
   "metadata": {},
   "outputs": [
    {
     "name": "stdout",
     "output_type": "stream",
     "text": [
      " Scanning column structure...\n",
      " Found 67 columns after scanning.\n",
      " Cleaning and saving all chunks...\n",
      " All chunks cleaned and saved properly with aligned columns.\n"
     ]
    }
   ],
   "source": [
    "import pandas as pd\n",
    "import os\n",
    "\n",
    "input_file = \"CICIDS2018_cleaned.csv\"\n",
    "output_file = \"CICIDS2018_final_cleaned.csv\"\n",
    "chunksize = 50000\n",
    "\n",
    "# Step 1: First pass – gather all columns that will remain after dropping \"useless\" ones\n",
    "all_columns = set()\n",
    "\n",
    "print(\" Scanning column structure...\")\n",
    "\n",
    "for chunk in pd.read_csv(input_file, chunksize=chunksize, low_memory=False):\n",
    "    chunk.dropna(axis=0, how='all', inplace=True)  # Drop empty rows\n",
    "    chunk.dropna(axis=1, how='all', inplace=True)  # Drop empty columns\n",
    "\n",
    "    # Drop columns with only 1 unique value\n",
    "    nunique = chunk.nunique()\n",
    "    cols_to_keep = nunique[nunique > 1].index\n",
    "    chunk = chunk[cols_to_keep]\n",
    "    \n",
    "    all_columns.update(chunk.columns)\n",
    "\n",
    "all_columns = sorted(list(all_columns))  # Keep order consistent\n",
    "print(f\" Found {len(all_columns)} columns after scanning.\")\n",
    "\n",
    "# Step 2: Second pass – clean and re-align all chunks to match the full column set\n",
    "if os.path.exists(output_file):\n",
    "    os.remove(output_file)  # Remove if already exists\n",
    "\n",
    "print(\" Cleaning and saving all chunks...\")\n",
    "\n",
    "for i, chunk in enumerate(pd.read_csv(input_file, chunksize=chunksize, low_memory=False)):\n",
    "    chunk.dropna(axis=0, how='all', inplace=True)\n",
    "    chunk.dropna(axis=1, how='all', inplace=True)\n",
    "\n",
    "    nunique = chunk.nunique()\n",
    "    cols_to_keep = nunique[nunique > 1].index\n",
    "    chunk = chunk[cols_to_keep]\n",
    "\n",
    "    # Re-align to all columns (missing columns will be filled with NaN)\n",
    "    chunk = chunk.reindex(columns=all_columns)\n",
    "\n",
    "    # Append to final file\n",
    "    if i == 0:\n",
    "        chunk.to_csv(output_file, index=False)\n",
    "    else:\n",
    "        chunk.to_csv(output_file, index=False, header=False, mode='a')\n",
    "\n",
    "print(\" All chunks cleaned and saved properly with aligned columns.\")"
   ]
  },
  {
   "cell_type": "code",
   "execution_count": 5,
   "id": "973a40be-1568-41ee-a66e-3bf4c8030b73",
   "metadata": {},
   "outputs": [],
   "source": [
    "df = pd.read_csv(\"CICIDS2018_final_cleaned.csv\", low_memory=False)"
   ]
  },
  {
   "cell_type": "code",
   "execution_count": 6,
   "id": "259a4df8-9130-4237-a449-b2e0e542fdb0",
   "metadata": {},
   "outputs": [
    {
     "name": "stdout",
     "output_type": "stream",
     "text": [
      "Missing values per column:\n",
      "ACK Flag Cnt            0\n",
      "Active Max         100000\n",
      "Active Mean        100000\n",
      "Active Min         100000\n",
      "Active Std         250000\n",
      "                    ...  \n",
      "Tot Bwd Pkts            0\n",
      "Tot Fwd Pkts            0\n",
      "TotLen Bwd Pkts         0\n",
      "TotLen Fwd Pkts         0\n",
      "URG Flag Cnt       150000\n",
      "Length: 67, dtype: int64\n"
     ]
    }
   ],
   "source": [
    "print(\"Missing values per column:\")\n",
    "print(df.isna().sum())"
   ]
  },
  {
   "cell_type": "code",
   "execution_count": 7,
   "id": "ce5bce3c-220e-4c0b-865d-452687a7a3f7",
   "metadata": {},
   "outputs": [],
   "source": [
    "# Drop columns with too many missing values\n",
    "df = df.loc[:, df.isnull().mean() < 0.7]\n",
    "\n",
    "# Fill remaining NaNs\n",
    "df.fillna(df.median(numeric_only=True), inplace=True)"
   ]
  },
  {
   "cell_type": "code",
   "execution_count": 8,
   "id": "a2fbd1f7-888b-4823-a40d-de11c2fd01aa",
   "metadata": {},
   "outputs": [
    {
     "name": "stdout",
     "output_type": "stream",
     "text": [
      "ACK Flag Cnt       0\n",
      "Active Max         0\n",
      "Active Mean        0\n",
      "Active Min         0\n",
      "Bwd Header Len     0\n",
      "                  ..\n",
      "Tot Bwd Pkts       0\n",
      "Tot Fwd Pkts       0\n",
      "TotLen Bwd Pkts    0\n",
      "TotLen Fwd Pkts    0\n",
      "URG Flag Cnt       0\n",
      "Length: 66, dtype: int64\n",
      "Final shape: (300000, 66)\n"
     ]
    }
   ],
   "source": [
    "print(df.isna().sum())  # Should all be zero now\n",
    "print(f\"Final shape: {df.shape}\")  # Rows x Columns"
   ]
  },
  {
   "cell_type": "code",
   "execution_count": 9,
   "id": "e71264f6-b121-44d2-93b1-9d5109f4ceb7",
   "metadata": {},
   "outputs": [],
   "source": [
    "# Drop columns with >30% missing values\n",
    "threshold = 0.3\n",
    "df = df.loc[:, df.isnull().mean() < threshold]"
   ]
  },
  {
   "cell_type": "code",
   "execution_count": 10,
   "id": "a75f6c39-ab91-4f94-a06c-50f20e449772",
   "metadata": {},
   "outputs": [],
   "source": [
    "df.fillna(df.median(numeric_only=True), inplace=True)"
   ]
  },
  {
   "cell_type": "code",
   "execution_count": 11,
   "id": "7156d25b-5451-4cd6-8c95-dba2a914e98b",
   "metadata": {},
   "outputs": [
    {
     "name": "stdout",
     "output_type": "stream",
     "text": [
      "Missing values after cleanup:\n",
      "0\n",
      "Final shape after cleanup: (300000, 66)\n"
     ]
    }
   ],
   "source": [
    "print(\"Missing values after cleanup:\")\n",
    "print(df.isna().sum().sum())  # should be 0\n",
    "\n",
    "print(\"Final shape after cleanup:\", df.shape)"
   ]
  },
  {
   "cell_type": "code",
   "execution_count": 12,
   "id": "d9026cc0-0b7b-4477-adf8-66d64ee5fc3b",
   "metadata": {},
   "outputs": [
    {
     "name": "stdout",
     "output_type": "stream",
     "text": [
      "Columns with missing values: []\n",
      "Series([], dtype: float64)\n"
     ]
    }
   ],
   "source": [
    "missing_cols = df.columns[df.isna().any()].tolist()\n",
    "print(\"Columns with missing values:\", missing_cols)\n",
    "print(df[missing_cols].isna().sum())"
   ]
  },
  {
   "cell_type": "code",
   "execution_count": 13,
   "id": "0d69ab7f-8327-4352-bfd6-1e7c82cd8147",
   "metadata": {},
   "outputs": [],
   "source": [
    "for col in missing_cols:\n",
    "    if df[col].dtype in ['float64', 'int64']:\n",
    "        df[col] = df[col].fillna(df[col].median())\n",
    "    else:\n",
    "        df[col] = df[col].fillna(\"unknown\")"
   ]
  },
  {
   "cell_type": "code",
   "execution_count": 14,
   "id": "b688f41e-0e95-4295-af2e-f31ae7a7810c",
   "metadata": {},
   "outputs": [
    {
     "name": "stdout",
     "output_type": "stream",
     "text": [
      " All missing values fixed? True\n",
      " Final shape: (300000, 66)\n"
     ]
    }
   ],
   "source": [
    "print(\" All missing values fixed?\" , df.isna().sum().sum() == 0)\n",
    "print(\" Final shape:\", df.shape)"
   ]
  },
  {
   "cell_type": "code",
   "execution_count": 15,
   "id": "efde647a-b8e7-4d19-9f6a-e9a13765d889",
   "metadata": {},
   "outputs": [],
   "source": [
    "# Drop columns with >30% missing values\n",
    "threshold = 0.3\n",
    "df = df.loc[:, df.isnull().mean() < threshold]"
   ]
  },
  {
   "cell_type": "code",
   "execution_count": 16,
   "id": "d12b5eb1-9f91-4f18-b479-b85707b0516b",
   "metadata": {},
   "outputs": [],
   "source": [
    "df.fillna(df.median(numeric_only=True), inplace=True)"
   ]
  },
  {
   "cell_type": "code",
   "execution_count": 17,
   "id": "f0b01499-aa62-4691-b5ec-c399f1a77d34",
   "metadata": {},
   "outputs": [
    {
     "name": "stdout",
     "output_type": "stream",
     "text": [
      "Missing values after cleanup:\n",
      "0\n",
      "Final shape after cleanup: (300000, 66)\n"
     ]
    }
   ],
   "source": [
    "print(\"Missing values after cleanup:\")\n",
    "print(df.isna().sum().sum())  # should be 0\n",
    "\n",
    "print(\"Final shape after cleanup:\", df.shape)"
   ]
  },
  {
   "cell_type": "code",
   "execution_count": 18,
   "id": "15e774ff-1a87-418c-aeb6-a9ba44d61a0d",
   "metadata": {},
   "outputs": [
    {
     "name": "stdout",
     "output_type": "stream",
     "text": [
      "int64      35\n",
      "float64    29\n",
      "object      2\n",
      "Name: count, dtype: int64\n"
     ]
    }
   ],
   "source": [
    "print(df.dtypes.value_counts())"
   ]
  },
  {
   "cell_type": "code",
   "execution_count": 19,
   "id": "410f9609-24d8-4c11-8cfa-2079c1223014",
   "metadata": {},
   "outputs": [
    {
     "name": "stdout",
     "output_type": "stream",
     "text": [
      "   ACK Flag Cnt  Active Max  Active Mean  Active Min  Bwd Header Len  \\\n",
      "0             0         0.0          0.0         0.0               0   \n",
      "1             0         0.0          0.0         0.0               0   \n",
      "2             0         0.0          0.0         0.0               0   \n",
      "3             0         0.0          0.0         0.0             328   \n",
      "4             0         0.0          0.0         0.0             360   \n",
      "\n",
      "   Bwd IAT Max   Bwd IAT Mean  Bwd IAT Min    Bwd IAT Std  Bwd IAT Tot  ...  \\\n",
      "0            0       0.000000            0       0.000000            0  ...   \n",
      "1            0       0.000000            0       0.000000            0  ...   \n",
      "2            0       0.000000            0       0.000000            0  ...   \n",
      "3      1167293  626433.555556          554  455082.214224      5637902  ...   \n",
      "4      2174893  771548.100000           90  755543.082717      7715481  ...   \n",
      "\n",
      "   Subflow Bwd Byts  Subflow Bwd Pkts  Subflow Fwd Byts  Subflow Fwd Pkts  \\\n",
      "0                 0                 0                 0                 3   \n",
      "1                 0                 0                 0                 3   \n",
      "2                 0                 0                 0                 3   \n",
      "3              2273                10              1239                15   \n",
      "4              2209                11              1143                14   \n",
      "\n",
      "             Timestamp  Tot Bwd Pkts  Tot Fwd Pkts  TotLen Bwd Pkts  \\\n",
      "0  14/02/2018 08:31:01             0             3                0   \n",
      "1  14/02/2018 08:33:50             0             3                0   \n",
      "2  14/02/2018 08:36:39             0             3                0   \n",
      "3  14/02/2018 08:40:13            10            15             2273   \n",
      "4  14/02/2018 08:40:23            11            14             2209   \n",
      "\n",
      "   TotLen Fwd Pkts  URG Flag Cnt  \n",
      "0                0           0.0  \n",
      "1                0           0.0  \n",
      "2                0           0.0  \n",
      "3             1239           0.0  \n",
      "4             1143           0.0  \n",
      "\n",
      "[5 rows x 66 columns]\n",
      "<class 'pandas.core.frame.DataFrame'>\n",
      "RangeIndex: 300000 entries, 0 to 299999\n",
      "Data columns (total 66 columns):\n",
      " #   Column             Non-Null Count   Dtype  \n",
      "---  ------             --------------   -----  \n",
      " 0   ACK Flag Cnt       300000 non-null  int64  \n",
      " 1   Active Max         300000 non-null  float64\n",
      " 2   Active Mean        300000 non-null  float64\n",
      " 3   Active Min         300000 non-null  float64\n",
      " 4   Bwd Header Len     300000 non-null  int64  \n",
      " 5   Bwd IAT Max        300000 non-null  int64  \n",
      " 6   Bwd IAT Mean       300000 non-null  float64\n",
      " 7   Bwd IAT Min        300000 non-null  int64  \n",
      " 8   Bwd IAT Std        300000 non-null  float64\n",
      " 9   Bwd IAT Tot        300000 non-null  int64  \n",
      " 10  Bwd Pkt Len Max    300000 non-null  int64  \n",
      " 11  Bwd Pkt Len Mean   300000 non-null  float64\n",
      " 12  Bwd Pkt Len Min    300000 non-null  float64\n",
      " 13  Bwd Pkt Len Std    300000 non-null  float64\n",
      " 14  Bwd Pkts/s         300000 non-null  float64\n",
      " 15  Bwd Seg Size Avg   300000 non-null  float64\n",
      " 16  Down/Up Ratio      300000 non-null  int64  \n",
      " 17  Dst Port           300000 non-null  int64  \n",
      " 18  Flow Byts/s        300000 non-null  float64\n",
      " 19  Flow Duration      300000 non-null  int64  \n",
      " 20  Flow IAT Max       300000 non-null  int64  \n",
      " 21  Flow IAT Mean      300000 non-null  float64\n",
      " 22  Flow IAT Min       300000 non-null  int64  \n",
      " 23  Flow IAT Std       300000 non-null  float64\n",
      " 24  Flow Pkts/s        300000 non-null  float64\n",
      " 25  Fwd Act Data Pkts  300000 non-null  int64  \n",
      " 26  Fwd Header Len     300000 non-null  int64  \n",
      " 27  Fwd IAT Max        300000 non-null  int64  \n",
      " 28  Fwd IAT Mean       300000 non-null  float64\n",
      " 29  Fwd IAT Min        300000 non-null  int64  \n",
      " 30  Fwd IAT Std        300000 non-null  float64\n",
      " 31  Fwd IAT Tot        300000 non-null  int64  \n",
      " 32  Fwd PSH Flags      300000 non-null  int64  \n",
      " 33  Fwd Pkt Len Max    300000 non-null  int64  \n",
      " 34  Fwd Pkt Len Mean   300000 non-null  float64\n",
      " 35  Fwd Pkt Len Min    300000 non-null  float64\n",
      " 36  Fwd Pkt Len Std    300000 non-null  float64\n",
      " 37  Fwd Pkts/s         300000 non-null  float64\n",
      " 38  Fwd Seg Size Avg   300000 non-null  float64\n",
      " 39  Fwd Seg Size Min   300000 non-null  int64  \n",
      " 40  Idle Max           300000 non-null  int64  \n",
      " 41  Idle Mean          300000 non-null  float64\n",
      " 42  Idle Min           300000 non-null  int64  \n",
      " 43  Idle Std           300000 non-null  float64\n",
      " 44  Init Bwd Win Byts  300000 non-null  int64  \n",
      " 45  Init Fwd Win Byts  300000 non-null  int64  \n",
      " 46  Label              300000 non-null  object \n",
      " 47  PSH Flag Cnt       300000 non-null  int64  \n",
      " 48  Pkt Len Max        300000 non-null  int64  \n",
      " 49  Pkt Len Mean       300000 non-null  float64\n",
      " 50  Pkt Len Min        300000 non-null  float64\n",
      " 51  Pkt Len Std        300000 non-null  float64\n",
      " 52  Pkt Len Var        300000 non-null  float64\n",
      " 53  Pkt Size Avg       300000 non-null  float64\n",
      " 54  Protocol           300000 non-null  int64  \n",
      " 55  SYN Flag Cnt       300000 non-null  int64  \n",
      " 56  Subflow Bwd Byts   300000 non-null  int64  \n",
      " 57  Subflow Bwd Pkts   300000 non-null  int64  \n",
      " 58  Subflow Fwd Byts   300000 non-null  int64  \n",
      " 59  Subflow Fwd Pkts   300000 non-null  int64  \n",
      " 60  Timestamp          300000 non-null  object \n",
      " 61  Tot Bwd Pkts       300000 non-null  int64  \n",
      " 62  Tot Fwd Pkts       300000 non-null  int64  \n",
      " 63  TotLen Bwd Pkts    300000 non-null  int64  \n",
      " 64  TotLen Fwd Pkts    300000 non-null  int64  \n",
      " 65  URG Flag Cnt       300000 non-null  float64\n",
      "dtypes: float64(29), int64(35), object(2)\n",
      "memory usage: 151.1+ MB\n",
      "None\n"
     ]
    }
   ],
   "source": [
    "print(df.head())\n",
    "print(df.info())"
   ]
  },
  {
   "cell_type": "code",
   "execution_count": 20,
   "id": "4b4a065e-c4e7-4568-a0f4-93048558d9f2",
   "metadata": {},
   "outputs": [],
   "source": [
    "for col in df.columns:\n",
    "    df[col] = pd.to_numeric(df[col], errors='coerce')"
   ]
  },
  {
   "cell_type": "code",
   "execution_count": 21,
   "id": "f2f7b25c-0770-4ea0-9aa1-178185146002",
   "metadata": {},
   "outputs": [],
   "source": [
    "df = df.fillna(df.median(numeric_only=True))"
   ]
  },
  {
   "cell_type": "code",
   "execution_count": 22,
   "id": "75b67079-9cdc-4c04-85dd-892dfaaac998",
   "metadata": {},
   "outputs": [
    {
     "name": "stdout",
     "output_type": "stream",
     "text": [
      "int64      35\n",
      "float64    31\n",
      "Name: count, dtype: int64\n"
     ]
    }
   ],
   "source": [
    "print(df.dtypes.value_counts())"
   ]
  },
  {
   "cell_type": "code",
   "execution_count": 23,
   "id": "879bd0ab-1cba-45e9-a2d6-22eeb4fe9249",
   "metadata": {},
   "outputs": [],
   "source": [
    "df = df.select_dtypes(include=['number'])  # keeps only numeric columns"
   ]
  },
  {
   "cell_type": "code",
   "execution_count": null,
   "id": "338ac41d-0690-4b0b-95da-6835e8236d23",
   "metadata": {},
   "outputs": [
    {
     "name": "stdout",
     "output_type": "stream",
     "text": [
      "600000\n",
      "int64      35\n",
      "float64    31\n",
      "Name: count, dtype: int64\n",
      "(300000, 66)\n"
     ]
    }
   ],
   "source": [
    "print(df.isna().sum().sum())  \n",
    "print(df.dtypes.value_counts()) \n",
    "print(df.shape)                 "
   ]
  },
  {
   "cell_type": "code",
   "execution_count": 25,
   "id": "05d9c0bf-ba6a-4e85-a585-11c0b441c8ea",
   "metadata": {},
   "outputs": [],
   "source": [
    "# DONE WITH DATA EXTRACTION & CLEANING"
   ]
  },
  {
   "cell_type": "code",
   "execution_count": null,
   "id": "ff0dfd38-b239-4132-8ed6-8ccf31876d48",
   "metadata": {},
   "outputs": [
    {
     "name": "stdout",
     "output_type": "stream",
     "text": [
      "Reading C:/Users/izzat/Downloads/CICIDS2018\\02-14-2018.csv...\n",
      "Loaded 50000 rows.\n",
      "Reading C:/Users/izzat/Downloads/CICIDS2018\\02-15-2018.csv...\n",
      "Loaded 50000 rows.\n",
      "Reading C:/Users/izzat/Downloads/CICIDS2018\\02-16-2018.csv...\n",
      "Loaded 50000 rows.\n",
      "Reading C:/Users/izzat/Downloads/CICIDS2018\\02-20-2018.csv...\n",
      "Loaded 50000 rows.\n",
      "Reading C:/Users/izzat/Downloads/CICIDS2018\\02-21-2018.csv...\n",
      "Loaded 50000 rows.\n",
      "Reading C:/Users/izzat/Downloads/CICIDS2018\\02-22-2018.csv...\n",
      "Loaded 50000 rows.\n",
      "Reading C:/Users/izzat/Downloads/CICIDS2018\\02-23-2018.csv...\n",
      "Loaded 50000 rows.\n",
      "Reading C:/Users/izzat/Downloads/CICIDS2018\\02-28-2018.csv...\n",
      "Loaded 50000 rows.\n",
      "Reading C:/Users/izzat/Downloads/CICIDS2018\\03-01-2018.csv...\n",
      "Loaded 50000 rows.\n",
      "Reading C:/Users/izzat/Downloads/CICIDS2018\\03-02-2018.csv...\n",
      "Loaded 50000 rows.\n",
      "\n",
      " Combined partial dataset shape: (500000, 84)\n"
     ]
    }
   ],
   "source": [
    "import os\n",
    "import pandas as pd\n",
    "\n",
    "folder_path = \"C:/Users/izzat/Downloads/CICIDS2018\"\n",
    "all_files = [os.path.join(folder_path, f) for f in os.listdir(folder_path) if f.endswith(\".csv\")]\n",
    "\n",
    "chunks = []\n",
    "max_rows_per_file = 50000\n",
    "\n",
    "for i, file in enumerate(all_files):\n",
    "    print(f\"Reading {file}...\")\n",
    "    try:\n",
    "        chunk = pd.read_csv(file, nrows=max_rows_per_file, on_bad_lines='skip', low_memory=False)\n",
    "        chunks.append(chunk)\n",
    "        print(f\"Loaded {len(chunk)} rows.\")\n",
    "    except Exception as e:\n",
    "        print(f\"Error reading {file}: {e}\")\n",
    "\n",
    "df = pd.concat(chunks, ignore_index=True)\n",
    "print(f\"\\n Combined partial dataset shape: {df.shape}\")"
   ]
  },
  {
   "cell_type": "code",
   "execution_count": 28,
   "id": "8869f3c9-3654-4094-afe0-ee4f36bfb2e3",
   "metadata": {},
   "outputs": [
    {
     "name": "stdout",
     "output_type": "stream",
     "text": [
      "['Dst Port', 'Protocol', 'Timestamp', 'Flow Duration', 'Tot Fwd Pkts', 'Tot Bwd Pkts', 'TotLen Fwd Pkts', 'TotLen Bwd Pkts', 'Fwd Pkt Len Max', 'Fwd Pkt Len Min', 'Fwd Pkt Len Mean', 'Fwd Pkt Len Std', 'Bwd Pkt Len Max', 'Bwd Pkt Len Min', 'Bwd Pkt Len Mean', 'Bwd Pkt Len Std', 'Flow Byts/s', 'Flow Pkts/s', 'Flow IAT Mean', 'Flow IAT Std', 'Flow IAT Max', 'Flow IAT Min', 'Fwd IAT Tot', 'Fwd IAT Mean', 'Fwd IAT Std', 'Fwd IAT Max', 'Fwd IAT Min', 'Bwd IAT Tot', 'Bwd IAT Mean', 'Bwd IAT Std', 'Bwd IAT Max', 'Bwd IAT Min', 'Fwd PSH Flags', 'Bwd PSH Flags', 'Fwd URG Flags', 'Bwd URG Flags', 'Fwd Header Len', 'Bwd Header Len', 'Fwd Pkts/s', 'Bwd Pkts/s', 'Pkt Len Min', 'Pkt Len Max', 'Pkt Len Mean', 'Pkt Len Std', 'Pkt Len Var', 'FIN Flag Cnt', 'SYN Flag Cnt', 'RST Flag Cnt', 'PSH Flag Cnt', 'ACK Flag Cnt', 'URG Flag Cnt', 'CWE Flag Count', 'ECE Flag Cnt', 'Down/Up Ratio', 'Pkt Size Avg', 'Fwd Seg Size Avg', 'Bwd Seg Size Avg', 'Fwd Byts/b Avg', 'Fwd Pkts/b Avg', 'Fwd Blk Rate Avg', 'Bwd Byts/b Avg', 'Bwd Pkts/b Avg', 'Bwd Blk Rate Avg', 'Subflow Fwd Pkts', 'Subflow Fwd Byts', 'Subflow Bwd Pkts', 'Subflow Bwd Byts', 'Init Fwd Win Byts', 'Init Bwd Win Byts', 'Fwd Act Data Pkts', 'Fwd Seg Size Min', 'Active Mean', 'Active Std', 'Active Max', 'Active Min', 'Idle Mean', 'Idle Std', 'Idle Max', 'Idle Min', 'Label', 'Flow ID', 'Src IP', 'Src Port', 'Dst IP']\n"
     ]
    }
   ],
   "source": [
    "print(df.columns.tolist())"
   ]
  },
  {
   "cell_type": "code",
   "execution_count": 29,
   "id": "67abec06-4ad1-4d91-a727-14055bdd15bf",
   "metadata": {},
   "outputs": [
    {
     "name": "stdout",
     "output_type": "stream",
     "text": [
      "['Benign' 'FTP-BruteForce' 'DoS attacks-GoldenEye' 'DoS attacks-Slowloris'\n",
      " 'DoS attacks-SlowHTTPTest' 'DDoS attacks-LOIC-HTTP'\n",
      " 'DDOS attack-LOIC-UDP' 'DDOS attack-HOIC' 'Brute Force -Web'\n",
      " 'Brute Force -XSS' 'SQL Injection' 'Label' 'Bot']\n",
      "Label\n",
      "Benign                      212756\n",
      "DDoS attacks-LOIC-HTTP       49927\n",
      "FTP-BruteForce               49895\n",
      "DoS attacks-SlowHTTPTest     49881\n",
      "DDOS attack-HOIC             46067\n",
      "Bot                          40455\n",
      "DoS attacks-GoldenEye        38790\n",
      "DoS attacks-Slowloris         9565\n",
      "DDOS attack-LOIC-UDP          1730\n",
      "Brute Force -Web               611\n",
      "Brute Force -XSS               230\n",
      "SQL Injection                   87\n",
      "Label                            6\n",
      "Name: count, dtype: int64\n"
     ]
    }
   ],
   "source": [
    "# Show unique values in the Label column\n",
    "print(df[\"Label\"].unique())\n",
    "\n",
    "# Show how many samples there are for each label\n",
    "print(df[\"Label\"].value_counts())"
   ]
  },
  {
   "cell_type": "code",
   "execution_count": 30,
   "id": "65ab7975-0e30-4040-b861-803947cffd50",
   "metadata": {},
   "outputs": [],
   "source": [
    "# Drop rows where Label == \"Label\"\n",
    "df = df[df[\"Label\"] != \"Label\"]"
   ]
  },
  {
   "cell_type": "code",
   "execution_count": 31,
   "id": "f1b5fcf5-d374-4440-8c75-5f860913abc1",
   "metadata": {},
   "outputs": [],
   "source": [
    "df[\"Label\"] = df[\"Label\"].replace({\n",
    "    # DDoS variants\n",
    "    \"DDOS attack-HOIC\": \"DDoS\",\n",
    "    \"DDoS attacks-LOIC-HTTP\": \"DDoS\",\n",
    "    \"DDOS attack-LOIC-UDP\": \"DDoS\",\n",
    "    \"DoS attacks-Hulk\": \"DDoS\",\n",
    "    \"DoS attacks-GoldenEye\": \"DDoS\",\n",
    "    \"DoS attacks-Slowloris\": \"DDoS\",\n",
    "    \"DoS attacks-SlowHTTPTest\": \"DDoS\",\n",
    "\n",
    "    # Brute Force variants\n",
    "    \"FTP-BruteForce\": \"Brute Force\",\n",
    "    \"SSH-Bruteforce\": \"Brute Force\",\n",
    "    \"Brute Force -Web\": \"Brute Force\",\n",
    "    \"Brute Force -XSS\": \"Brute Force\",\n",
    "\n",
    "    # Keep SQL Injection and others as is\n",
    "})"
   ]
  },
  {
   "cell_type": "code",
   "execution_count": 32,
   "id": "d54977b7-9b86-4fb5-a19b-3e38794ce785",
   "metadata": {},
   "outputs": [
    {
     "name": "stdout",
     "output_type": "stream",
     "text": [
      "Label\n",
      "Benign           212756\n",
      "DDoS             195960\n",
      "Brute Force       50736\n",
      "Bot               40455\n",
      "SQL Injection        87\n",
      "Name: count, dtype: int64\n"
     ]
    }
   ],
   "source": [
    "print(df[\"Label\"].value_counts())"
   ]
  },
  {
   "cell_type": "code",
   "execution_count": 33,
   "id": "5f195dc5-73a4-41f7-a77c-34be13dda2b6",
   "metadata": {},
   "outputs": [],
   "source": [
    "df.drop(columns=[\"Flow ID\", \"Src IP\", \"Dst IP\", \"Timestamp\"], inplace=True)"
   ]
  },
  {
   "cell_type": "code",
   "execution_count": 34,
   "id": "00fec2b7-a304-47ae-b1c9-6e5a0282595c",
   "metadata": {},
   "outputs": [],
   "source": [
    "df[\"Label\"] = df[\"Label\"].astype(\"category\")\n",
    "df[\"Label_cat\"] = df[\"Label\"].cat.codes"
   ]
  },
  {
   "cell_type": "code",
   "execution_count": 35,
   "id": "4a7f0165-7288-4899-b0f0-d29567be0738",
   "metadata": {},
   "outputs": [
    {
     "data": {
      "image/png": "[encoded data removed]",
      "text/plain": [
       "<Figure size 1200x600 with 1 Axes>"
      ]
     },
     "metadata": {},
     "output_type": "display_data"
    }
   ],
   "source": [
    "import seaborn as sns\n",
    "import matplotlib.pyplot as plt\n",
    "\n",
    "plt.figure(figsize=(12,6))\n",
    "sns.countplot(data=df, x=\"Label\")\n",
    "plt.xticks(rotation=45)\n",
    "plt.title(\"Class Distribution\")\n",
    "plt.show()"
   ]
  },
  {
   "cell_type": "code",
   "execution_count": 36,
   "id": "3509c08c-ce24-4c3c-8408-65949a70ade2",
   "metadata": {},
   "outputs": [
    {
     "name": "stdout",
     "output_type": "stream",
     "text": [
      "Missing values per column:\n",
      "Dst Port              0\n",
      "Protocol              0\n",
      "Flow Duration         0\n",
      "Tot Fwd Pkts          0\n",
      "Tot Bwd Pkts          0\n",
      "                  ...  \n",
      "Idle Max              0\n",
      "Idle Min              0\n",
      "Label                 0\n",
      "Src Port         449994\n",
      "Label_cat             0\n",
      "Length: 81, dtype: int64\n",
      "\n",
      "Total missing values:\n",
      "451178\n"
     ]
    }
   ],
   "source": [
    "print(\"Missing values per column:\")\n",
    "print(df.isnull().sum())\n",
    "\n",
    "print(\"\\nTotal missing values:\")\n",
    "print(df.isnull().sum().sum())"
   ]
  },
  {
   "cell_type": "code",
   "execution_count": 37,
   "id": "556b3abc-9713-464f-bbef-bf249434200d",
   "metadata": {},
   "outputs": [
    {
     "name": "stdout",
     "output_type": "stream",
     "text": [
      "object      78\n",
      "category     1\n",
      "float64      1\n",
      "int8         1\n",
      "Name: count, dtype: int64\n"
     ]
    }
   ],
   "source": [
    "print(df.dtypes.value_counts())"
   ]
  },
  {
   "cell_type": "code",
   "execution_count": 38,
   "id": "e3fc63a1-cbe0-4764-8070-3326d4f9040d",
   "metadata": {},
   "outputs": [
    {
     "name": "stdout",
     "output_type": "stream",
     "text": [
      "Duplicate rows: 141732\n"
     ]
    }
   ],
   "source": [
    "print(f\"Duplicate rows: {df.duplicated().sum()}\")"
   ]
  },
  {
   "cell_type": "code",
   "execution_count": 39,
   "id": "ae7034ed-ddae-412d-a18a-c0bfb2fe72de",
   "metadata": {},
   "outputs": [
    {
     "name": "stdout",
     "output_type": "stream",
     "text": [
      "Unique labels: ['Benign', 'Brute Force', 'DDoS', 'SQL Injection', 'Bot']\n",
      "Categories (5, object): ['Benign', 'Bot', 'Brute Force', 'DDoS', 'SQL Injection']\n",
      "\n",
      "Label distribution:\n",
      " Label\n",
      "Benign           212756\n",
      "DDoS             195960\n",
      "Brute Force       50736\n",
      "Bot               40455\n",
      "SQL Injection        87\n",
      "Name: count, dtype: int64\n"
     ]
    }
   ],
   "source": [
    "print(\"Unique labels:\", df[\"Label\"].unique())\n",
    "print(\"\\nLabel distribution:\\n\", df[\"Label\"].value_counts())"
   ]
  },
  {
   "cell_type": "code",
   "execution_count": 40,
   "id": "f270cb6e-d57c-40a4-853b-b695c50772d9",
   "metadata": {},
   "outputs": [],
   "source": [
    "df = df.drop_duplicates()"
   ]
  },
  {
   "cell_type": "code",
   "execution_count": 41,
   "id": "839b858d-a368-4a01-8bcb-15ff4c87858e",
   "metadata": {},
   "outputs": [
    {
     "name": "stdout",
     "output_type": "stream",
     "text": [
      "Duplicate rows: 0\n"
     ]
    }
   ],
   "source": [
    "print(f\"Duplicate rows: {df.duplicated().sum()}\")"
   ]
  },
  {
   "cell_type": "code",
   "execution_count": 42,
   "id": "268e5a71-fde4-409c-b560-4b357ed2da67",
   "metadata": {},
   "outputs": [
    {
     "name": "stdout",
     "output_type": "stream",
     "text": [
      "Dst Port: [0 22 80 67 9984]\n",
      "Protocol: [0 6 17 '6' '0']\n",
      "Flow Duration: [112641719 112641466 112638623 6453966 8804066]\n",
      "Tot Fwd Pkts: [3 15 14 16 5]\n",
      "Tot Bwd Pkts: [0 10 11 12 3]\n",
      "TotLen Fwd Pkts: [0 1239 1143 211 220]\n",
      "TotLen Bwd Pkts: [0 2273 2209 463 472]\n",
      "Fwd Pkt Len Max: [0 744 211 220 209]\n",
      "Fwd Pkt Len Min: [0 300 64 8 230]\n",
      "Fwd Pkt Len Mean: [0.0 82.6 81.6428571429 77.4375 42.2]\n",
      "Fwd Pkt Len Std: [0.0 196.7412368715 203.7455453568 190.8311535538 94.3620686505]\n",
      "Bwd Pkt Len Max: [0 976 463 472 461]\n",
      "Bwd Pkt Len Min: [0 329 64 60 48]\n",
      "Bwd Pkt Len Mean: [0.0 227.3 200.8181818182 189.4166666667 154.3333333333]\n",
      "Bwd Pkt Len Std: [0.0 371.6778922072 362.2498635422 347.6425694023 267.3131746348]\n",
      "Flow Byts/s: [0.0 544.1615279659 380.7331748762 502.4794183028 1414.4419984345]\n",
      "Flow Pkts/s: [0.0266331163 0.0266331761 0.0266338483 3.8735871865 2.839597068]\n",
      "Flow IAT Mean: [56320859.5 56320733.0 56319311.5 268915.25 366836.083333333]\n",
      "Flow IAT Std: [139.3000358938 114.5512985522 301.9345955667 247443.778966007\n",
      " 511356.609732762]\n",
      "Flow IAT Max: [56320958 56320814 56319525 673900 1928102]\n",
      "Flow IAT Min: [56320761 56320652 56319098 22 21]\n",
      "Fwd IAT Tot: [112641719 112641466 112638623 6453966 8804066]\n",
      "Fwd IAT Mean: [56320859.5 56320733.0 56319311.5 460997.571428571 677235.846153846]\n",
      "Fwd IAT Std: [139.3000358938 114.5512985522 301.9345955667 123109.423587757\n",
      " 532416.970958985]\n",
      "Fwd IAT Max: [56320958 56320814 56319525 673900 1928102]\n",
      "Fwd IAT Min: [56320761 56320652 56319098 229740 246924]\n",
      "Bwd IAT Tot: [0 5637902 7715481 5980598 238634]\n",
      "Bwd IAT Mean: [0.0 626433.555555556 771548.1 543690.727272727 119317.0]\n",
      "Bwd IAT Std: [0.0 455082.21422401 755543.082716951 460713.519752371 167621.076693833]\n",
      "Bwd IAT Max: [0 1167293 2174893 1254338 237843]\n",
      "Bwd IAT Min: [0 554 90 78 791]\n",
      "Fwd PSH Flags: [0 1 '0' '1']\n",
      "Bwd PSH Flags: [0 '0']\n",
      "Fwd URG Flags: [0 '0' '1']\n",
      "Bwd URG Flags: [0 '0']\n",
      "Fwd Header Len: [0 488 456 332 168]\n",
      "Bwd Header Len: [0 328 360 252 104]\n",
      "Fwd Pkts/s: [0.0266331163 0.0266331761 0.0266338483 2.3241523119 1.5901743581]\n",
      "Bwd Pkts/s: [0.0 1.5494348746 1.2494227099 1.7169000625 6.2957358981]\n",
      "Pkt Len Min: [0 300 44 48 520]\n",
      "Pkt Len Max: [0 976 463 472 461]\n",
      "Pkt Len Mean: [0.0 135.0769230769 128.9230769231 121.1034482759 74.8888888889]\n",
      "Pkt Len Std: [0.0 277.8347599674 279.7630315931 265.7086676402 161.4058893322]\n",
      "Pkt Len Var: [0.0 77192.1538461539 78267.3538461539 70601.0960591133 26051.8611111111]\n",
      "FIN Flag Cnt: [0 1 '0' '1']\n",
      "SYN Flag Cnt: [0 1 '0' '1']\n",
      "RST Flag Cnt: [0 1 '1' '0']\n",
      "PSH Flag Cnt: [0 1 '1' '0']\n",
      "ACK Flag Cnt: [0 1 '0' '1']\n",
      "URG Flag Cnt: [0 1 '0' '1']\n",
      "CWE Flag Count: [0 '0' '1']\n",
      "ECE Flag Cnt: [0 1 '1' '0']\n",
      "Down/Up Ratio: [0 1 3 4 2]\n",
      "Pkt Size Avg: [0.0 140.48 134.08 125.4285714286 84.25]\n",
      "Fwd Seg Size Avg: [0.0 82.6 81.6428571429 77.4375 42.2]\n",
      "Bwd Seg Size Avg: [0.0 227.3 200.8181818182 189.4166666667 154.3333333333]\n",
      "Fwd Byts/b Avg: [0 '0']\n",
      "Fwd Pkts/b Avg: [0 '0']\n",
      "Fwd Blk Rate Avg: [0 '0']\n",
      "Bwd Byts/b Avg: [0 '0']\n",
      "Bwd Pkts/b Avg: [0 '0']\n",
      "Bwd Blk Rate Avg: [0 '0']\n",
      "Subflow Fwd Pkts: [3 15 14 16 5]\n",
      "Subflow Fwd Byts: [0 1239 1143 211 220]\n",
      "Subflow Bwd Pkts: [0 10 11 12 3]\n",
      "Subflow Bwd Byts: [0 2273 2209 463 472]\n",
      "Init Fwd Win Byts: [-1 65535 5808 14600 14480]\n",
      "Init Bwd Win Byts: [-1 233 234 219 227]\n",
      "Fwd Act Data Pkts: [0 6 7 1 11]\n",
      "Fwd Seg Size Min: [0 32 20 8 40]\n",
      "Active Mean: [0 18407914 1815918 1024353.0 2726234.0]\n",
      "Active Std: [0 649038.754494676 491680.336337035 1929327.47393939 4748534.57686495]\n",
      "Active Max: [0 18407914 1815918 1601183 2726234]\n",
      "Active Min: [0 18407914 1815918 321569 2726234]\n",
      "Idle Mean: [56320859.5 56320733.0 56319311.5 0.0 56320240.0]\n",
      "Idle Std: [139.3000358938 114.5512985522 301.9345955667 0.0 203.6467529817]\n",
      "Idle Max: [56320958 56320814 56319525 0 56320384]\n",
      "Idle Min: [56320761 56320652 56319098 0 56320096]\n"
     ]
    }
   ],
   "source": [
    "for col in df.columns:\n",
    "    if df[col].dtype == \"object\" and col != \"Label\":\n",
    "        print(f\"{col}: {df[col].unique()[:5]}\")  # Show first few unique values"
   ]
  },
  {
   "cell_type": "code",
   "execution_count": 43,
   "id": "d0497988-f470-4531-b8ac-7b3cf8e44242",
   "metadata": {},
   "outputs": [],
   "source": [
    "columns_to_drop = ['Flow ID', 'Src IP', 'Dst IP', 'Timestamp', 'Src Port']\n",
    "df = df.drop(columns=columns_to_drop, errors='ignore')"
   ]
  },
  {
   "cell_type": "code",
   "execution_count": 44,
   "id": "01340319-5d30-4889-b5db-eef6e11d311c",
   "metadata": {},
   "outputs": [],
   "source": [
    "# Convert all columns except 'Label' and 'Label_cat' to numeric\n",
    "for col in df.columns:\n",
    "    if col not in ['Label', 'Label_cat']:\n",
    "        df[col] = pd.to_numeric(df[col], errors='coerce')"
   ]
  },
  {
   "cell_type": "code",
   "execution_count": 45,
   "id": "27362ec7-389c-46e8-9af5-9d5c49e92de1",
   "metadata": {},
   "outputs": [],
   "source": [
    "#DATA TRANSFORMATION STEPS BELOW"
   ]
  },
  {
   "cell_type": "code",
   "execution_count": 46,
   "id": "0c40980d-89f3-4b50-8fac-3f97560093a0",
   "metadata": {},
   "outputs": [],
   "source": [
    "X = df.drop(columns=['Label', 'Label_cat'])\n",
    "y = df['Label_cat']  "
   ]
  },
  {
   "cell_type": "code",
   "execution_count": 47,
   "id": "1aeea55f-c666-433c-a96e-a7925badfe9b",
   "metadata": {},
   "outputs": [
    {
     "name": "stdout",
     "output_type": "stream",
     "text": [
      "Any NaNs: False\n",
      "Any Infs: False\n"
     ]
    }
   ],
   "source": [
    "import numpy as np\n",
    "import pandas as pd\n",
    "from sklearn.preprocessing import StandardScaler\n",
    "\n",
    "# Step 1: Ensure X is a DataFrame\n",
    "X = pd.DataFrame(X)\n",
    "\n",
    "# Step 2: Fix Flow Duration if negative\n",
    "if 'Flow Duration' in X.columns:\n",
    "    X['Flow Duration'] = X['Flow Duration'].abs()\n",
    "\n",
    "# Step 3: List of columns with very large values to apply log transform\n",
    "high_magnitude_cols = ['Idle Max', 'Idle Mean', 'Idle Min', 'Idle Std', 'Flow Duration']\n",
    "\n",
    "# Keep only those that exist in your DataFrame\n",
    "cols_to_log = [col for col in high_magnitude_cols if col in X.columns]\n",
    "\n",
    "# Apply signed log transform (log1p for numerical stability)\n",
    "for col in cols_to_log:\n",
    "    X[col] = np.log1p(np.abs(X[col])) * np.sign(X[col])\n",
    "\n",
    "# Step 4: Replace inf/-inf with NaN and handle them\n",
    "X.replace([np.inf, -np.inf], np.nan, inplace=True)\n",
    "X.dropna(inplace=True)\n",
    "\n",
    "# Step 5: Apply StandardScaler\n",
    "scaler = StandardScaler()\n",
    "X_scaled = scaler.fit_transform(X)\n",
    "\n",
    "# Optional sanity check\n",
    "print(\"Any NaNs:\", np.isnan(X_scaled).any())\n",
    "print(\"Any Infs:\", np.isinf(X_scaled).any())"
   ]
  },
  {
   "cell_type": "code",
   "execution_count": 48,
   "id": "ca4ab6b6-557f-4603-b34e-da58dd117f2e",
   "metadata": {},
   "outputs": [
    {
     "name": "stdout",
     "output_type": "stream",
     "text": [
      "Max value: 708000000.0\n",
      "Min value: -1.0\n"
     ]
    }
   ],
   "source": [
    "print(\"Max value:\", np.max(X.values))\n",
    "print(\"Min value:\", np.min(X.values))"
   ]
  },
  {
   "cell_type": "code",
   "execution_count": 49,
   "id": "1a95ab95-1f1b-4bff-aef1-835e8988c8ac",
   "metadata": {},
   "outputs": [
    {
     "name": "stdout",
     "output_type": "stream",
     "text": [
      "                    min           max\n",
      "Dst Port       0.000000  6.553100e+04\n",
      "Protocol       0.000000  1.700000e+01\n",
      "Flow Duration  0.693147  1.860300e+01\n",
      "Tot Fwd Pkts   1.000000  3.096290e+05\n",
      "Tot Bwd Pkts   0.000000  3.841700e+04\n",
      "...                 ...           ...\n",
      "Active Min     0.000000  1.122069e+08\n",
      "Idle Mean      0.000000  1.860300e+01\n",
      "Idle Std       0.000000  1.813214e+01\n",
      "Idle Max       0.000000  1.860300e+01\n",
      "Idle Min       0.000000  1.860300e+01\n",
      "\n",
      "[78 rows x 2 columns]\n"
     ]
    }
   ],
   "source": [
    "print(X.describe().T[['min', 'max']])"
   ]
  },
  {
   "cell_type": "code",
   "execution_count": 50,
   "id": "3f00bb32-e5a9-4f0c-9188-b76a1926eeba",
   "metadata": {},
   "outputs": [
    {
     "name": "stdout",
     "output_type": "stream",
     "text": [
      "              min          max\n",
      "Flow Byts/s   0.0  708000000.0\n",
      "Fwd IAT Min   0.0  120000000.0\n",
      "Bwd IAT Min   0.0  120000000.0\n",
      "Bwd IAT Max   0.0  120000000.0\n",
      "Bwd IAT Mean  0.0  120000000.0\n",
      "Bwd IAT Tot   0.0  120000000.0\n",
      "Fwd IAT Max   0.0  120000000.0\n",
      "Fwd IAT Mean  0.0  120000000.0\n",
      "Fwd IAT Tot   0.0  120000000.0\n",
      "Flow IAT Max  1.0  120000000.0\n"
     ]
    }
   ],
   "source": [
    "print(X.describe().T[['min', 'max']].sort_values(by='max', ascending=False).head(10))"
   ]
  },
  {
   "cell_type": "code",
   "execution_count": 51,
   "id": "04ece3dd-269e-4f72-9d2a-f54f4791f3d6",
   "metadata": {},
   "outputs": [
    {
     "name": "stdout",
     "output_type": "stream",
     "text": [
      "Flow Byts/s     708000000.0\n",
      "Fwd IAT Min     120000000.0\n",
      "Bwd IAT Min     120000000.0\n",
      "Bwd IAT Max     120000000.0\n",
      "Bwd IAT Mean    120000000.0\n",
      "dtype: float64\n",
      "Init Bwd Win Byts   -1.0\n",
      "Init Fwd Win Byts   -1.0\n",
      "Pkt Size Avg         0.0\n",
      "Down/Up Ratio        0.0\n",
      "ECE Flag Cnt         0.0\n",
      "dtype: float64\n"
     ]
    }
   ],
   "source": [
    "print((X.max().sort_values(ascending=False)).head(5))\n",
    "print((X.min().sort_values()).head(5))"
   ]
  },
  {
   "cell_type": "code",
   "execution_count": 52,
   "id": "e8f6ad09-1422-4195-98b4-c22437535bc8",
   "metadata": {},
   "outputs": [],
   "source": [
    "for col in X.columns:\n",
    "    X[col] = X[col].clip(lower=-1e6, upper=1e6)"
   ]
  },
  {
   "cell_type": "code",
   "execution_count": 53,
   "id": "3e462577-9e7d-42fa-b93a-961f75cb8ca7",
   "metadata": {},
   "outputs": [],
   "source": [
    "extreme_cols = ['Fwd IAT Max', 'Flow IAT Max', 'Flow IAT Std', 'Fwd IAT Std', \n",
    "                'Flow Byts/s', 'Flow IAT Min', 'Fwd IAT Min', 'Fwd IAT Tot',\n",
    "                'Flow IAT Mean']\n",
    "X.drop(columns=extreme_cols, inplace=True)"
   ]
  },
  {
   "cell_type": "code",
   "execution_count": 54,
   "id": "78a7f179",
   "metadata": {},
   "outputs": [
    {
     "name": "stdout",
     "output_type": "stream",
     "text": [
      "['Dst Port', 'Protocol', 'Timestamp', 'Flow Duration', 'Tot Fwd Pkts', 'Tot Bwd Pkts', 'TotLen Fwd Pkts', 'TotLen Bwd Pkts', 'Fwd Pkt Len Max', 'Fwd Pkt Len Min', 'Fwd Pkt Len Mean', 'Fwd Pkt Len Std', 'Bwd Pkt Len Max', 'Bwd Pkt Len Min', 'Bwd Pkt Len Mean', 'Bwd Pkt Len Std', 'Flow Byts/s', 'Flow Pkts/s', 'Flow IAT Mean', 'Flow IAT Std', 'Flow IAT Max', 'Flow IAT Min', 'Fwd IAT Tot', 'Fwd IAT Mean', 'Fwd IAT Std', 'Fwd IAT Max', 'Fwd IAT Min', 'Bwd IAT Tot', 'Bwd IAT Mean', 'Bwd IAT Std', 'Bwd IAT Max', 'Bwd IAT Min', 'Fwd PSH Flags', 'Bwd PSH Flags', 'Fwd URG Flags', 'Bwd URG Flags', 'Fwd Header Len', 'Bwd Header Len', 'Fwd Pkts/s', 'Bwd Pkts/s', 'Pkt Len Min', 'Pkt Len Max', 'Pkt Len Mean', 'Pkt Len Std', 'Pkt Len Var', 'FIN Flag Cnt', 'SYN Flag Cnt', 'RST Flag Cnt', 'PSH Flag Cnt', 'ACK Flag Cnt', 'URG Flag Cnt', 'CWE Flag Count', 'ECE Flag Cnt', 'Down/Up Ratio', 'Pkt Size Avg', 'Fwd Seg Size Avg', 'Bwd Seg Size Avg', 'Fwd Byts/b Avg', 'Fwd Pkts/b Avg', 'Fwd Blk Rate Avg', 'Bwd Byts/b Avg', 'Bwd Pkts/b Avg', 'Bwd Blk Rate Avg', 'Subflow Fwd Pkts', 'Subflow Fwd Byts', 'Subflow Bwd Pkts', 'Subflow Bwd Byts', 'Init Fwd Win Byts', 'Init Bwd Win Byts', 'Fwd Act Data Pkts', 'Fwd Seg Size Min', 'Active Mean', 'Active Std', 'Active Max', 'Active Min', 'Idle Mean', 'Idle Std', 'Idle Max', 'Idle Min', 'Label']\n"
     ]
    }
   ],
   "source": [
    "import pandas as pd\n",
    "\n",
    "# Load just 500 rows to inspect columns\n",
    "sample = pd.read_csv(\"CICIDS2018_combined.csv\", nrows=500, on_bad_lines='skip')\n",
    "print(sample.columns.tolist())"
   ]
  },
  {
   "cell_type": "code",
   "execution_count": 55,
   "id": "0763d6ef-17d7-40e8-8c7e-9e3e5e4cb4d6",
   "metadata": {},
   "outputs": [],
   "source": [
    "chunk_size = 50000\n",
    "chunks = []\n",
    "\n",
    "cols_to_use = [\n",
    "    'Protocol', 'Flow Duration', 'Tot Fwd Pkts', 'Tot Bwd Pkts',\n",
    "    'TotLen Fwd Pkts', 'TotLen Bwd Pkts', 'Fwd Pkt Len Max',\n",
    "    'Fwd Pkt Len Min', 'Fwd Pkt Len Mean', 'Fwd Pkt Len Std',\n",
    "    'Bwd Pkt Len Max', 'Bwd Pkt Len Min', 'Bwd Pkt Len Mean',\n",
    "    'Bwd Pkt Len Std', 'Flow Byts/s', 'Flow Pkts/s',\n",
    "    'Flow IAT Mean', 'Flow IAT Std', 'Flow IAT Max', 'Flow IAT Min',\n",
    "    'Fwd IAT Tot', 'Fwd IAT Mean', 'Fwd IAT Std', 'Fwd IAT Max', 'Fwd IAT Min',\n",
    "    'Bwd IAT Tot', 'Bwd IAT Mean', 'Bwd IAT Std', 'Bwd IAT Max', 'Bwd IAT Min',\n",
    "    'Fwd PSH Flags', 'Bwd PSH Flags', 'Fwd URG Flags', 'Bwd URG Flags',\n",
    "    'Fwd Header Len', 'Bwd Header Len', 'Fwd Pkts/s', 'Bwd Pkts/s',\n",
    "    'Pkt Len Min', 'Pkt Len Max', 'Pkt Len Mean', 'Pkt Len Std', 'Pkt Len Var',\n",
    "    'FIN Flag Cnt', 'SYN Flag Cnt', 'RST Flag Cnt', 'PSH Flag Cnt',\n",
    "    'ACK Flag Cnt', 'URG Flag Cnt', 'CWE Flag Count', 'ECE Flag Cnt',\n",
    "    'Down/Up Ratio', 'Pkt Size Avg', 'Fwd Seg Size Avg', 'Bwd Seg Size Avg',\n",
    "    'Subflow Fwd Pkts', 'Subflow Fwd Byts', 'Subflow Bwd Pkts',\n",
    "    'Subflow Bwd Byts', 'Init Fwd Win Byts', 'Init Bwd Win Byts',\n",
    "    'Fwd Act Data Pkts', 'Fwd Seg Size Min', 'Active Mean', 'Active Std',\n",
    "    'Active Max', 'Active Min', 'Idle Mean', 'Idle Std', 'Idle Max',\n",
    "    'Idle Min', 'Label'\n",
    "]\n",
    "\n",
    "df_chunks = pd.read_csv(\n",
    "    \"CICIDS2018_combined.csv\",\n",
    "    usecols=cols_to_use,\n",
    "    chunksize=50000,\n",
    "    on_bad_lines='skip',\n",
    "    low_memory=False\n",
    ")"
   ]
  },
  {
   "cell_type": "code",
   "execution_count": 56,
   "id": "d86ee839-012c-4cfa-880a-a11e207e9030",
   "metadata": {},
   "outputs": [
    {
     "name": "stdout",
     "output_type": "stream",
     "text": [
      "Chunk 0 read successfully with 500000 rows\n",
      "Chunk 1 read successfully with 500000 rows\n",
      "Chunk 2 read successfully with 500000 rows\n",
      "Chunk 3 read successfully with 500000 rows\n",
      "Chunk 4 read successfully with 500000 rows\n",
      "Chunk 5 read successfully with 500000 rows\n",
      "Chunk 6 read successfully with 145725 rows\n",
      "Chunk 7 read successfully with 0 rows\n",
      "Chunk 8 read successfully with 0 rows\n",
      "Chunk 9 read successfully with 0 rows\n",
      "Chunk 10 read successfully with 0 rows\n",
      "Chunk 11 read successfully with 0 rows\n",
      "Chunk 12 read successfully with 0 rows\n",
      "Chunk 13 read successfully with 0 rows\n",
      "Chunk 14 read successfully with 0 rows\n",
      "Chunk 15 read successfully with 0 rows\n",
      "Chunk 16 read successfully with 0 rows\n",
      "Chunk 17 read successfully with 0 rows\n",
      "Chunk 18 read successfully with 0 rows\n",
      "Chunk 19 read successfully with 0 rows\n",
      "Chunk 20 read successfully with 0 rows\n",
      "Chunk 21 read successfully with 0 rows\n",
      "Chunk 22 read successfully with 405527 rows\n",
      "Chunk 23 read successfully with 500000 rows\n",
      "Chunk 24 read successfully with 500000 rows\n",
      "Chunk 25 read successfully with 500000 rows\n",
      "Chunk 26 read successfully with 500000 rows\n",
      "Chunk 27 read successfully with 500000 rows\n",
      "Chunk 28 read successfully with 500000 rows\n",
      "Chunk 29 read successfully with 500000 rows\n",
      "Chunk 30 read successfully with 500000 rows\n",
      "Chunk 31 read successfully with 500000 rows\n",
      "Chunk 32 read successfully with 233002 rows\n"
     ]
    }
   ],
   "source": [
    "import pandas as pd\n",
    "\n",
    "chunk_size = 500_000\n",
    "\n",
    "for i, chunk in enumerate(pd.read_csv(\n",
    "    'CICIDS2018_combined.csv',\n",
    "    chunksize=chunk_size,\n",
    "    on_bad_lines='skip',  # skip bad rows\n",
    "    engine='python'       # more tolerant of malformed data\n",
    ")):\n",
    "    print(f\"Chunk {i} read successfully with {len(chunk)} rows\")"
   ]
  },
  {
   "cell_type": "code",
   "execution_count": 57,
   "id": "eebc54dd-27cf-4e41-89c8-cae7104577fe",
   "metadata": {},
   "outputs": [
    {
     "name": "stdout",
     "output_type": "stream",
     "text": [
      "Chunk 0 read with 500000 rows\n",
      "Chunk 1 read with 500000 rows\n",
      "Chunk 2 read with 500000 rows\n",
      "Chunk 3 read with 500000 rows\n",
      "Chunk 4 read with 500000 rows\n",
      "Chunk 5 read with 500000 rows\n",
      "Chunk 6 read with 145725 rows\n",
      "Chunk 7 read with 0 rows\n",
      "Chunk 8 read with 0 rows\n",
      "Chunk 9 read with 0 rows\n",
      "Chunk 10 read with 0 rows\n",
      "Chunk 11 read with 0 rows\n",
      "Chunk 12 read with 0 rows\n",
      "Chunk 13 read with 0 rows\n",
      "Chunk 14 read with 0 rows\n",
      "Chunk 15 read with 0 rows\n",
      "Chunk 16 read with 0 rows\n",
      "Chunk 17 read with 0 rows\n",
      "Chunk 18 read with 0 rows\n",
      "Chunk 19 read with 0 rows\n",
      "Chunk 20 read with 0 rows\n",
      "Chunk 21 read with 0 rows\n",
      "Chunk 22 read with 405527 rows\n",
      "Chunk 23 read with 500000 rows\n",
      "Chunk 24 read with 500000 rows\n",
      "Chunk 25 read with 500000 rows\n",
      "Chunk 26 read with 500000 rows\n",
      "Chunk 27 read with 500000 rows\n",
      "Chunk 28 read with 500000 rows\n",
      "Chunk 29 read with 500000 rows\n",
      "Chunk 30 read with 500000 rows\n",
      "Chunk 31 read with 500000 rows\n",
      "Chunk 32 read with 233002 rows\n",
      " All chunks saved to 'CICIDS2018_cleaned.csv'\n"
     ]
    }
   ],
   "source": [
    "import pandas as pd\n",
    "\n",
    "chunk_size = 500_000\n",
    "first_chunk = True\n",
    "\n",
    "with pd.read_csv(\n",
    "    'CICIDS2018_combined.csv',\n",
    "    chunksize=chunk_size,\n",
    "    on_bad_lines='skip',\n",
    "    engine='python'  # engine='python' is better for malformed lines\n",
    ") as reader:\n",
    "    for i, chunk in enumerate(reader):\n",
    "        print(f\"Chunk {i} read with {len(chunk)} rows\")\n",
    "\n",
    "        chunk.to_csv(\n",
    "            'CICIDS2018_cleaned.csv',\n",
    "            mode='w' if first_chunk else 'a',\n",
    "            index=False,\n",
    "            header=first_chunk\n",
    "        )\n",
    "        first_chunk = False\n",
    "\n",
    "print(\" All chunks saved to 'CICIDS2018_cleaned.csv'\")"
   ]
  },
  {
   "cell_type": "code",
   "execution_count": 58,
   "id": "feee4496-8a6f-4375-bbde-0da92c759ad4",
   "metadata": {},
   "outputs": [
    {
     "name": "stdout",
     "output_type": "stream",
     "text": [
      "Reading Chunk 0...\n",
      "Cleaned Chunk 0: 99997 rows\n",
      "Reading Chunk 1...\n",
      "Cleaned Chunk 1: 99998 rows\n",
      "Reading Chunk 2...\n",
      "Cleaned Chunk 2: 100000 rows\n",
      "Reading Chunk 3...\n",
      "Cleaned Chunk 3: 99925 rows\n",
      "Reading Chunk 4...\n",
      "Cleaned Chunk 4: 99680 rows\n",
      "Reading Chunk 5...\n",
      "Cleaned Chunk 5: 99693 rows\n",
      "Reading Chunk 6...\n",
      "Cleaned Chunk 6: 99612 rows\n",
      "Reading Chunk 7...\n",
      "Cleaned Chunk 7: 99743 rows\n",
      "Reading Chunk 8...\n",
      "Cleaned Chunk 8: 99572 rows\n",
      "Reading Chunk 9...\n",
      "Cleaned Chunk 9: 99655 rows\n",
      "Reading Chunk 10...\n",
      "Cleaned Chunk 10: 99848 rows\n",
      "Reading Chunk 11...\n",
      "Cleaned Chunk 11: 99536 rows\n",
      "Reading Chunk 12...\n",
      "Cleaned Chunk 12: 99469 rows\n",
      "Reading Chunk 13...\n",
      "Cleaned Chunk 13: 99518 rows\n",
      "Reading Chunk 14...\n",
      "Cleaned Chunk 14: 99483 rows\n",
      "Reading Chunk 15...\n",
      "Cleaned Chunk 15: 99543 rows\n",
      "Reading Chunk 16...\n",
      "Cleaned Chunk 16: 99532 rows\n",
      "Reading Chunk 17...\n",
      "Cleaned Chunk 17: 99478 rows\n",
      "Reading Chunk 18...\n",
      "Cleaned Chunk 18: 99511 rows\n",
      "Reading Chunk 19...\n",
      "Cleaned Chunk 19: 99552 rows\n",
      "Reading Chunk 20...\n",
      "Cleaned Chunk 20: 99457 rows\n",
      "Reading Chunk 21...\n",
      "Cleaned Chunk 21: 100000 rows\n",
      "Reading Chunk 22...\n",
      "Cleaned Chunk 22: 100000 rows\n",
      "Reading Chunk 23...\n",
      "Cleaned Chunk 23: 100000 rows\n",
      "Reading Chunk 24...\n",
      "Cleaned Chunk 24: 100000 rows\n",
      "Reading Chunk 25...\n",
      "Cleaned Chunk 25: 100000 rows\n",
      "Reading Chunk 26...\n",
      "Cleaned Chunk 26: 100000 rows\n",
      "Reading Chunk 27...\n",
      "Cleaned Chunk 27: 100000 rows\n",
      "Reading Chunk 28...\n",
      "Cleaned Chunk 28: 100000 rows\n",
      "Reading Chunk 29...\n",
      "Cleaned Chunk 29: 100000 rows\n",
      "Reading Chunk 30...\n",
      "Cleaned Chunk 30: 100000 rows\n",
      "Reading Chunk 31...\n",
      "Cleaned Chunk 31: 45725 rows\n",
      "Reading Chunk 32...\n",
      "Cleaned Chunk 32: 0 rows\n",
      "Reading Chunk 33...\n",
      "Cleaned Chunk 33: 0 rows\n",
      "Reading Chunk 34...\n",
      "Cleaned Chunk 34: 0 rows\n",
      "Reading Chunk 35...\n",
      "Cleaned Chunk 35: 0 rows\n",
      "Reading Chunk 36...\n",
      "Cleaned Chunk 36: 0 rows\n",
      "Reading Chunk 37...\n",
      "Cleaned Chunk 37: 0 rows\n",
      "Reading Chunk 38...\n",
      "Cleaned Chunk 38: 0 rows\n",
      "Reading Chunk 39...\n",
      "Cleaned Chunk 39: 0 rows\n",
      "Reading Chunk 40...\n",
      "Cleaned Chunk 40: 0 rows\n",
      "Reading Chunk 41...\n",
      "Cleaned Chunk 41: 0 rows\n",
      "Reading Chunk 42...\n",
      "Cleaned Chunk 42: 0 rows\n",
      "Reading Chunk 43...\n",
      "Cleaned Chunk 43: 0 rows\n",
      "Reading Chunk 44...\n",
      "Cleaned Chunk 44: 0 rows\n",
      "Reading Chunk 45...\n",
      "Cleaned Chunk 45: 0 rows\n",
      "Reading Chunk 46...\n",
      "Cleaned Chunk 46: 0 rows\n",
      "Reading Chunk 47...\n",
      "Cleaned Chunk 47: 0 rows\n",
      "Reading Chunk 48...\n",
      "Cleaned Chunk 48: 0 rows\n",
      "Reading Chunk 49...\n",
      "Cleaned Chunk 49: 0 rows\n",
      "Reading Chunk 50...\n",
      "Cleaned Chunk 50: 0 rows\n",
      "Reading Chunk 51...\n",
      "Cleaned Chunk 51: 0 rows\n",
      "Reading Chunk 52...\n",
      "Cleaned Chunk 52: 0 rows\n",
      "Reading Chunk 53...\n",
      "Cleaned Chunk 53: 0 rows\n",
      "Reading Chunk 54...\n",
      "Cleaned Chunk 54: 0 rows\n",
      "Reading Chunk 55...\n",
      "Cleaned Chunk 55: 0 rows\n",
      "Reading Chunk 56...\n",
      "Cleaned Chunk 56: 0 rows\n",
      "Reading Chunk 57...\n",
      "Cleaned Chunk 57: 0 rows\n",
      "Reading Chunk 58...\n",
      "Cleaned Chunk 58: 0 rows\n",
      "Reading Chunk 59...\n",
      "Cleaned Chunk 59: 0 rows\n",
      "Reading Chunk 60...\n",
      "Cleaned Chunk 60: 0 rows\n",
      "Reading Chunk 61...\n",
      "Cleaned Chunk 61: 0 rows\n",
      "Reading Chunk 62...\n",
      "Cleaned Chunk 62: 0 rows\n",
      "Reading Chunk 63...\n",
      "Cleaned Chunk 63: 0 rows\n",
      "Reading Chunk 64...\n",
      "Cleaned Chunk 64: 0 rows\n",
      "Reading Chunk 65...\n",
      "Cleaned Chunk 65: 0 rows\n",
      "Reading Chunk 66...\n",
      "Cleaned Chunk 66: 0 rows\n",
      "Reading Chunk 67...\n",
      "Cleaned Chunk 67: 0 rows\n",
      "Reading Chunk 68...\n",
      "Cleaned Chunk 68: 0 rows\n",
      "Reading Chunk 69...\n",
      "Cleaned Chunk 69: 0 rows\n",
      "Reading Chunk 70...\n",
      "Cleaned Chunk 70: 0 rows\n",
      "Reading Chunk 71...\n",
      "Cleaned Chunk 71: 0 rows\n",
      "Reading Chunk 72...\n",
      "Cleaned Chunk 72: 0 rows\n",
      "Reading Chunk 73...\n",
      "Cleaned Chunk 73: 0 rows\n",
      "Reading Chunk 74...\n",
      "Cleaned Chunk 74: 0 rows\n",
      "Reading Chunk 75...\n",
      "Cleaned Chunk 75: 0 rows\n",
      "Reading Chunk 76...\n",
      "Cleaned Chunk 76: 0 rows\n",
      "Reading Chunk 77...\n",
      "Cleaned Chunk 77: 0 rows\n",
      "Reading Chunk 78...\n",
      "Cleaned Chunk 78: 0 rows\n",
      "Reading Chunk 79...\n",
      "Cleaned Chunk 79: 0 rows\n",
      "Reading Chunk 80...\n",
      "Cleaned Chunk 80: 0 rows\n",
      "Reading Chunk 81...\n",
      "Cleaned Chunk 81: 0 rows\n",
      "Reading Chunk 82...\n",
      "Cleaned Chunk 82: 0 rows\n",
      "Reading Chunk 83...\n",
      "Cleaned Chunk 83: 0 rows\n",
      "Reading Chunk 84...\n",
      "Cleaned Chunk 84: 0 rows\n",
      "Reading Chunk 85...\n",
      "Cleaned Chunk 85: 0 rows\n",
      "Reading Chunk 86...\n",
      "Cleaned Chunk 86: 0 rows\n",
      "Reading Chunk 87...\n",
      "Cleaned Chunk 87: 0 rows\n",
      "Reading Chunk 88...\n",
      "Cleaned Chunk 88: 0 rows\n",
      "Reading Chunk 89...\n",
      "Cleaned Chunk 89: 0 rows\n",
      "Reading Chunk 90...\n",
      "Cleaned Chunk 90: 0 rows\n",
      "Reading Chunk 91...\n",
      "Cleaned Chunk 91: 0 rows\n",
      "Reading Chunk 92...\n",
      "Cleaned Chunk 92: 0 rows\n",
      "Reading Chunk 93...\n",
      "Cleaned Chunk 93: 0 rows\n",
      "Reading Chunk 94...\n",
      "Cleaned Chunk 94: 0 rows\n",
      "Reading Chunk 95...\n",
      "Cleaned Chunk 95: 0 rows\n",
      "Reading Chunk 96...\n",
      "Cleaned Chunk 96: 0 rows\n",
      "Reading Chunk 97...\n",
      "Cleaned Chunk 97: 0 rows\n",
      "Reading Chunk 98...\n",
      "Cleaned Chunk 98: 0 rows\n",
      "Reading Chunk 99...\n",
      "Cleaned Chunk 99: 0 rows\n",
      "Reading Chunk 100...\n",
      "Cleaned Chunk 100: 0 rows\n",
      "Reading Chunk 101...\n",
      "Cleaned Chunk 101: 0 rows\n",
      "Reading Chunk 102...\n",
      "Cleaned Chunk 102: 0 rows\n",
      "Reading Chunk 103...\n",
      "Cleaned Chunk 103: 0 rows\n",
      "Reading Chunk 104...\n",
      "Cleaned Chunk 104: 0 rows\n",
      "Reading Chunk 105...\n",
      "Cleaned Chunk 105: 0 rows\n",
      "Reading Chunk 106...\n",
      "Cleaned Chunk 106: 0 rows\n",
      "Reading Chunk 107...\n",
      "Cleaned Chunk 107: 0 rows\n",
      "Reading Chunk 108...\n",
      "Cleaned Chunk 108: 0 rows\n",
      "Reading Chunk 109...\n",
      "Cleaned Chunk 109: 0 rows\n",
      "Reading Chunk 110...\n",
      "Cleaned Chunk 110: 5527 rows\n",
      "Reading Chunk 111...\n",
      "Cleaned Chunk 111: 100000 rows\n",
      "Reading Chunk 112...\n",
      "Cleaned Chunk 112: 100000 rows\n",
      "Reading Chunk 113...\n",
      "Cleaned Chunk 113: 100000 rows\n",
      "Reading Chunk 114...\n",
      "Cleaned Chunk 114: 100000 rows\n",
      "Reading Chunk 115...\n",
      "Cleaned Chunk 115: 100000 rows\n",
      "Reading Chunk 116...\n",
      "Cleaned Chunk 116: 100000 rows\n",
      "Reading Chunk 117...\n",
      "Cleaned Chunk 117: 100000 rows\n",
      "Reading Chunk 118...\n",
      "Cleaned Chunk 118: 100000 rows\n",
      "Reading Chunk 119...\n",
      "Cleaned Chunk 119: 100000 rows\n",
      "Reading Chunk 120...\n",
      "Cleaned Chunk 120: 100000 rows\n",
      "Reading Chunk 121...\n",
      "Cleaned Chunk 121: 99781 rows\n",
      "Reading Chunk 122...\n",
      "Cleaned Chunk 122: 99589 rows\n",
      "Reading Chunk 123...\n",
      "Cleaned Chunk 123: 99681 rows\n",
      "Reading Chunk 124...\n",
      "Cleaned Chunk 124: 99700 rows\n",
      "Reading Chunk 125...\n",
      "Cleaned Chunk 125: 99722 rows\n",
      "Reading Chunk 126...\n",
      "Cleaned Chunk 126: 99658 rows\n",
      "Reading Chunk 127...\n",
      "Cleaned Chunk 127: 99654 rows\n",
      "Reading Chunk 128...\n",
      "Cleaned Chunk 128: 99687 rows\n",
      "Reading Chunk 129...\n",
      "Cleaned Chunk 129: 99574 rows\n",
      "Reading Chunk 130...\n",
      "Cleaned Chunk 130: 99703 rows\n",
      "Reading Chunk 131...\n",
      "Cleaned Chunk 131: 99662 rows\n",
      "Reading Chunk 132...\n",
      "Cleaned Chunk 132: 99645 rows\n",
      "Reading Chunk 133...\n",
      "Cleaned Chunk 133: 99564 rows\n",
      "Reading Chunk 134...\n",
      "Cleaned Chunk 134: 99640 rows\n",
      "Reading Chunk 135...\n",
      "Cleaned Chunk 135: 99641 rows\n",
      "Reading Chunk 136...\n",
      "Cleaned Chunk 136: 99636 rows\n",
      "Reading Chunk 137...\n",
      "Cleaned Chunk 137: 99621 rows\n",
      "Reading Chunk 138...\n",
      "Cleaned Chunk 138: 99720 rows\n",
      "Reading Chunk 139...\n",
      "Cleaned Chunk 139: 99599 rows\n",
      "Reading Chunk 140...\n",
      "Cleaned Chunk 140: 99634 rows\n",
      "Reading Chunk 141...\n",
      "Cleaned Chunk 141: 99657 rows\n",
      "Reading Chunk 142...\n",
      "Cleaned Chunk 142: 99512 rows\n",
      "Reading Chunk 143...\n",
      "Cleaned Chunk 143: 99279 rows\n",
      "Reading Chunk 144...\n",
      "Cleaned Chunk 144: 99303 rows\n",
      "Reading Chunk 145...\n",
      "Cleaned Chunk 145: 99520 rows\n",
      "Reading Chunk 146...\n",
      "Cleaned Chunk 146: 99391 rows\n",
      "Reading Chunk 147...\n",
      "Cleaned Chunk 147: 99146 rows\n",
      "Reading Chunk 148...\n",
      "Cleaned Chunk 148: 99317 rows\n",
      "Reading Chunk 149...\n",
      "Cleaned Chunk 149: 99535 rows\n",
      "Reading Chunk 150...\n",
      "Cleaned Chunk 150: 99409 rows\n",
      "Reading Chunk 151...\n",
      "Cleaned Chunk 151: 99601 rows\n",
      "Reading Chunk 152...\n",
      "Cleaned Chunk 152: 99950 rows\n",
      "Reading Chunk 153...\n",
      "Cleaned Chunk 153: 99956 rows\n",
      "Reading Chunk 154...\n",
      "Cleaned Chunk 154: 99942 rows\n",
      "Reading Chunk 155...\n",
      "Cleaned Chunk 155: 99776 rows\n",
      "Reading Chunk 156...\n",
      "Cleaned Chunk 156: 99620 rows\n",
      "Reading Chunk 157...\n",
      "Cleaned Chunk 157: 99616 rows\n",
      "Reading Chunk 158...\n",
      "Cleaned Chunk 158: 99647 rows\n",
      "Reading Chunk 159...\n",
      "Cleaned Chunk 159: 99670 rows\n",
      "Reading Chunk 160...\n",
      "Cleaned Chunk 160: 99618 rows\n",
      "Reading Chunk 161...\n",
      "Cleaned Chunk 161: 99743 rows\n",
      "Reading Chunk 162...\n",
      "Cleaned Chunk 162: 32927 rows\n",
      "\n",
      " Final cleaned dataset saved to 'CICIDS2018_cleaned_noNaNs.csv'\n"
     ]
    }
   ],
   "source": [
    "import pandas as pd\n",
    "\n",
    "chunk_size = 100_000\n",
    "output_file = 'CICIDS2018_cleaned_noNaNs.csv'\n",
    "first_chunk = True\n",
    "\n",
    "for i, chunk in enumerate(pd.read_csv(\n",
    "    'CICIDS2018_combined.csv',\n",
    "    chunksize=chunk_size,\n",
    "    engine='python',            # safer but slower\n",
    "    on_bad_lines='skip',        # skip problematic lines\n",
    "    encoding='utf-8'\n",
    ")):\n",
    "\n",
    "    print(f\"Reading Chunk {i}...\")\n",
    "\n",
    "    chunk.dropna(inplace=True)\n",
    "\n",
    "    print(f\"Cleaned Chunk {i}: {len(chunk)} rows\")\n",
    "\n",
    "    chunk.to_csv(output_file, mode='a', index=False, header=first_chunk)\n",
    "    first_chunk = False\n",
    "\n",
    "print(\"\\n Final cleaned dataset saved to 'CICIDS2018_cleaned_noNaNs.csv'\")"
   ]
  },
  {
   "cell_type": "code",
   "execution_count": null,
   "id": "1875f443-3fff-4b94-97ba-342e20b05b69",
   "metadata": {},
   "outputs": [],
   "source": []
  }
 ],
 "metadata": {
  "kernelspec": {
   "display_name": "base",
   "language": "python",
   "name": "python3"
  },
  "language_info": {
   "codemirror_mode": {
    "name": "ipython",
    "version": 3
   },
   "file_extension": ".py",
   "mimetype": "text/x-python",
   "name": "python",
   "nbconvert_exporter": "python",
   "pygments_lexer": "ipython3",
   "version": "3.12.7"
  }
 },
 "nbformat": 4,
 "nbformat_minor": 5
}
